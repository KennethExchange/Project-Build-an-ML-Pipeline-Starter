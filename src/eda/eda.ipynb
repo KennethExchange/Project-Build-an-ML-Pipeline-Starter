{
 "cells": [
  {
   "cell_type": "code",
   "id": "1f72a955",
   "metadata": {
    "scrolled": true,
    "tags": [],
    "ExecuteTime": {
     "end_time": "2024-11-20T03:03:34.816560Z",
     "start_time": "2024-11-20T03:02:56.149425Z"
    }
   },
   "source": [
    "!pip install wandb==0.16.0\n",
    "!pip install pandas-profiling==3.6.2\n",
    "!pip install pandas==2.1.3"
   ],
   "outputs": [
    {
     "name": "stderr",
     "output_type": "stream",
     "text": [
      "  WARNING: Failed to remove contents in a temporary directory 'C:\\Users\\kenne\\miniconda3\\Lib\\site-packages\\google\\~upb'."
     ]
    },
    {
     "name": "stdout",
     "output_type": "stream",
     "text": [
      "Collecting wandb==0.16.0"
     ]
    },
    {
     "name": "stderr",
     "output_type": "stream",
     "text": [
      "\n"
     ]
    },
    {
     "name": "stdout",
     "output_type": "stream",
     "text": [
      "\n"
     ]
    },
    {
     "name": "stderr",
     "output_type": "stream",
     "text": [
      "  You can safely remove it manually."
     ]
    },
    {
     "name": "stdout",
     "output_type": "stream",
     "text": [
      "  Using cached wandb-0.16.0-py3-none-any.whl.metadata (9.8 kB)"
     ]
    },
    {
     "name": "stderr",
     "output_type": "stream",
     "text": [
      "\n"
     ]
    },
    {
     "name": "stdout",
     "output_type": "stream",
     "text": [
      "\n",
      "Requirement already satisfied: Click!=8.0.0,>=7.1 in c:\\users\\kenne\\miniconda3\\lib\\site-packages (from wandb==0.16.0) (8.1.7)"
     ]
    },
    {
     "name": "stderr",
     "output_type": "stream",
     "text": [
      "  WARNING: Failed to remove contents in a temporary directory 'C:\\Users\\kenne\\miniconda3\\Lib\\site-packages\\~andb'."
     ]
    },
    {
     "name": "stdout",
     "output_type": "stream",
     "text": [
      "\n"
     ]
    },
    {
     "name": "stderr",
     "output_type": "stream",
     "text": [
      "\n"
     ]
    },
    {
     "name": "stdout",
     "output_type": "stream",
     "text": [
      "Requirement already satisfied: GitPython!=3.1.29,>=1.0.0 in c:\\users\\kenne\\miniconda3\\lib\\site-packages (from wandb==0.16.0) (3.1.43)"
     ]
    },
    {
     "name": "stderr",
     "output_type": "stream",
     "text": [
      "  You can safely remove it manually."
     ]
    },
    {
     "name": "stdout",
     "output_type": "stream",
     "text": [
      "\n"
     ]
    },
    {
     "name": "stderr",
     "output_type": "stream",
     "text": [
      "\n"
     ]
    },
    {
     "name": "stdout",
     "output_type": "stream",
     "text": [
      "Requirement already satisfied: requests<3,>=2.0.0 in c:\\users\\kenne\\miniconda3\\lib\\site-packages (from wandb==0.16.0) (2.32.3)"
     ]
    },
    {
     "name": "stderr",
     "output_type": "stream",
     "text": [
      "ERROR: pip's dependency resolver does not currently take into account all the packages that are installed. This behaviour is the source of the following dependency conflicts."
     ]
    },
    {
     "name": "stdout",
     "output_type": "stream",
     "text": [
      "\n"
     ]
    },
    {
     "name": "stderr",
     "output_type": "stream",
     "text": [
      "\n"
     ]
    },
    {
     "name": "stdout",
     "output_type": "stream",
     "text": [
      "Requirement already satisfied: psutil>=5.0.0 in c:\\users\\kenne\\miniconda3\\lib\\site-packages (from wandb==0.16.0) (5.9.0)"
     ]
    },
    {
     "name": "stderr",
     "output_type": "stream",
     "text": [
      "grpcio-status 1.67.1 requires protobuf<6.0dev,>=5.26.1, but you have protobuf 4.25.5 which is incompatible."
     ]
    },
    {
     "name": "stdout",
     "output_type": "stream",
     "text": [
      "\n"
     ]
    },
    {
     "name": "stderr",
     "output_type": "stream",
     "text": [
      "\n"
     ]
    },
    {
     "name": "stdout",
     "output_type": "stream",
     "text": [
      "Requirement already satisfied: sentry-sdk>=1.0.0 in c:\\users\\kenne\\miniconda3\\lib\\site-packages (from wandb==0.16.0) (2.17.0)\n",
      "Requirement already satisfied: docker-pycreds>=0.4.0 in c:\\users\\kenne\\miniconda3\\lib\\site-packages (from wandb==0.16.0) (0.4.0)\n",
      "Requirement already satisfied: PyYAML in c:\\users\\kenne\\miniconda3\\lib\\site-packages (from wandb==0.16.0) (6.0.2)\n",
      "Requirement already satisfied: setproctitle in c:\\users\\kenne\\miniconda3\\lib\\site-packages (from wandb==0.16.0) (1.3.3)\n",
      "Requirement already satisfied: setuptools in c:\\users\\kenne\\miniconda3\\lib\\site-packages (from wandb==0.16.0) (75.1.0)\n",
      "Collecting appdirs>=1.4.3 (from wandb==0.16.0)\n",
      "  Using cached appdirs-1.4.4-py2.py3-none-any.whl.metadata (9.0 kB)\n",
      "Collecting protobuf!=4.21.0,<5,>=3.19.0 (from wandb==0.16.0)\n",
      "  Using cached protobuf-4.25.5-cp310-abi3-win_amd64.whl.metadata (541 bytes)\n",
      "Requirement already satisfied: colorama in c:\\users\\kenne\\miniconda3\\lib\\site-packages (from Click!=8.0.0,>=7.1->wandb==0.16.0) (0.4.6)\n",
      "Requirement already satisfied: six>=1.4.0 in c:\\users\\kenne\\miniconda3\\lib\\site-packages (from docker-pycreds>=0.4.0->wandb==0.16.0) (1.16.0)\n",
      "Requirement already satisfied: gitdb<5,>=4.0.1 in c:\\users\\kenne\\miniconda3\\lib\\site-packages (from GitPython!=3.1.29,>=1.0.0->wandb==0.16.0) (4.0.11)\n",
      "Requirement already satisfied: charset-normalizer<4,>=2 in c:\\users\\kenne\\miniconda3\\lib\\site-packages (from requests<3,>=2.0.0->wandb==0.16.0) (3.3.2)\n",
      "Requirement already satisfied: idna<4,>=2.5 in c:\\users\\kenne\\miniconda3\\lib\\site-packages (from requests<3,>=2.0.0->wandb==0.16.0) (3.7)\n",
      "Requirement already satisfied: urllib3<3,>=1.21.1 in c:\\users\\kenne\\miniconda3\\lib\\site-packages (from requests<3,>=2.0.0->wandb==0.16.0) (2.2.3)\n",
      "Requirement already satisfied: certifi>=2017.4.17 in c:\\users\\kenne\\miniconda3\\lib\\site-packages (from requests<3,>=2.0.0->wandb==0.16.0) (2024.8.30)\n",
      "Requirement already satisfied: smmap<6,>=3.0.1 in c:\\users\\kenne\\miniconda3\\lib\\site-packages (from gitdb<5,>=4.0.1->GitPython!=3.1.29,>=1.0.0->wandb==0.16.0) (5.0.1)\n",
      "Using cached wandb-0.16.0-py3-none-any.whl (2.1 MB)\n",
      "Using cached appdirs-1.4.4-py2.py3-none-any.whl (9.6 kB)\n",
      "Using cached protobuf-4.25.5-cp310-abi3-win_amd64.whl (413 kB)\n",
      "Installing collected packages: appdirs, protobuf, wandb\n",
      "  Attempting uninstall: protobuf\n",
      "    Found existing installation: protobuf 5.29.0rc2\n",
      "    Uninstalling protobuf-5.29.0rc2:\n",
      "      Successfully uninstalled protobuf-5.29.0rc2\n",
      "  Attempting uninstall: wandb\n",
      "    Found existing installation: wandb 0.18.5\n",
      "    Uninstalling wandb-0.18.5:\n",
      "      Successfully uninstalled wandb-0.18.5\n",
      "Successfully installed appdirs-1.4.4 protobuf-4.25.5 wandb-0.16.0\n"
     ]
    },
    {
     "name": "stderr",
     "output_type": "stream",
     "text": [
      "ERROR: Ignored the following versions that require a different python version: 3.3.0 Requires-Python >=3.7, <3.11; 3.4.0 Requires-Python >=3.7, <3.11; 3.5.0 Requires-Python >=3.7, <3.11; 3.6.0 Requires-Python >=3.7, <3.11; 3.6.1 Requires-Python >=3.7, <3.11; 3.6.2 Requires-Python >=3.7, <3.11; 3.6.3 Requires-Python >=3.7, <3.11; 3.6.4 Requires-Python >=3.7, <3.11; 3.6.5 Requires-Python >=3.7, <3.11; 3.6.6 Requires-Python >=3.7, <3.11\n",
      "ERROR: Could not find a version that satisfies the requirement pandas-profiling==3.6.2 (from versions: 3.0.0, 3.1.0, 3.2.0)\n",
      "ERROR: No matching distribution found for pandas-profiling==3.6.2\n",
      "  WARNING: Failed to remove contents in a temporary directory 'C:\\Users\\kenne\\miniconda3\\Lib\\site-packages\\~andas.libs'."
     ]
    },
    {
     "name": "stdout",
     "output_type": "stream",
     "text": [
      "Collecting pandas==2.1.3"
     ]
    },
    {
     "name": "stderr",
     "output_type": "stream",
     "text": [
      "\n"
     ]
    },
    {
     "name": "stdout",
     "output_type": "stream",
     "text": [
      "\n"
     ]
    },
    {
     "name": "stderr",
     "output_type": "stream",
     "text": [
      "  You can safely remove it manually."
     ]
    },
    {
     "name": "stdout",
     "output_type": "stream",
     "text": [
      "  Downloading pandas-2.1.3-cp312-cp312-win_amd64.whl.metadata (18 kB)"
     ]
    },
    {
     "name": "stderr",
     "output_type": "stream",
     "text": [
      "\n"
     ]
    },
    {
     "name": "stdout",
     "output_type": "stream",
     "text": [
      "\n"
     ]
    },
    {
     "name": "stderr",
     "output_type": "stream",
     "text": [
      "  WARNING: Failed to remove contents in a temporary directory 'C:\\Users\\kenne\\miniconda3\\Lib\\site-packages\\~andas'."
     ]
    },
    {
     "name": "stdout",
     "output_type": "stream",
     "text": [
      "Requirement already satisfied: numpy<2,>=1.26.0 in c:\\users\\kenne\\miniconda3\\lib\\site-packages (from pandas==2.1.3) (1.26.4)"
     ]
    },
    {
     "name": "stderr",
     "output_type": "stream",
     "text": [
      "\n"
     ]
    },
    {
     "name": "stdout",
     "output_type": "stream",
     "text": [
      "\n"
     ]
    },
    {
     "name": "stderr",
     "output_type": "stream",
     "text": [
      "  You can safely remove it manually."
     ]
    },
    {
     "name": "stdout",
     "output_type": "stream",
     "text": [
      "Requirement already satisfied: python-dateutil>=2.8.2 in c:\\users\\kenne\\miniconda3\\lib\\site-packages (from pandas==2.1.3) (2.9.0.post0)"
     ]
    },
    {
     "name": "stderr",
     "output_type": "stream",
     "text": [
      "\n"
     ]
    }
   ],
   "execution_count": 2
  },
  {
   "cell_type": "markdown",
   "id": "54c4f98a",
   "metadata": {},
   "source": [
    "1. Fetch the artifact we just created (sample.csv) from W&B and read it with pandas:"
   ]
  },
  {
   "cell_type": "code",
   "id": "eed98c34",
   "metadata": {
    "ExecuteTime": {
     "end_time": "2024-11-20T03:21:33.751147Z",
     "start_time": "2024-11-20T03:21:30.368565Z"
    }
   },
   "source": [
    "import wandb\n",
    "import pandas as pd\n",
    "# Note that we use save_code=True in the call to wandb.init so the notebook is uploaded and versioned by W&B\n",
    "run = wandb.init(project=\"nyc_airbnb\", group=\"eda\", save_code=True)\n",
    "local_path = wandb.use_artifact(\"sample.csv:latest\").file(\"sample1.csv\")\n",
    "df = pd.read_csv(local_path)"
   ],
   "outputs": [
    {
     "data": {
      "text/plain": [
       "<IPython.core.display.HTML object>"
      ],
      "text/html": [
       "Finishing last run (ID:393aei4w) before initializing another..."
      ]
     },
     "metadata": {},
     "output_type": "display_data"
    },
    {
     "data": {
      "text/plain": [
       "<IPython.core.display.HTML object>"
      ],
      "text/html": [
       " View run <strong style=\"color:#cdcd00\">giddy-music-7</strong> at: <a href='https://wandb.ai/kenneth-exchange-none/nyc_airbnb/runs/393aei4w' target=\"_blank\">https://wandb.ai/kenneth-exchange-none/nyc_airbnb/runs/393aei4w</a><br/> View project at: <a href='https://wandb.ai/kenneth-exchange-none/nyc_airbnb' target=\"_blank\">https://wandb.ai/kenneth-exchange-none/nyc_airbnb</a><br/>Synced 5 W&B file(s), 0 media file(s), 0 artifact file(s) and 0 other file(s)"
      ]
     },
     "metadata": {},
     "output_type": "display_data"
    },
    {
     "data": {
      "text/plain": [
       "<IPython.core.display.HTML object>"
      ],
      "text/html": [
       "Find logs at: <code>.\\wandb\\run-20241119_211400-393aei4w\\logs</code>"
      ]
     },
     "metadata": {},
     "output_type": "display_data"
    },
    {
     "data": {
      "text/plain": [
       "<IPython.core.display.HTML object>"
      ],
      "text/html": [
       "Successfully finished last run (ID:393aei4w). Initializing new run:<br/>"
      ]
     },
     "metadata": {},
     "output_type": "display_data"
    },
    {
     "data": {
      "text/plain": [
       "<IPython.core.display.HTML object>"
      ],
      "text/html": [
       "Tracking run with wandb version 0.18.5"
      ]
     },
     "metadata": {},
     "output_type": "display_data"
    },
    {
     "data": {
      "text/plain": [
       "<IPython.core.display.HTML object>"
      ],
      "text/html": [
       "Run data is saved locally in <code>C:\\Users\\kenne\\PycharmProjects\\Project-Build-an-ML-Pipeline-Starter\\Project-Build-an-ML-Pipeline-Starter\\src\\eda\\wandb\\run-20241119_212130-5upp7xai</code>"
      ]
     },
     "metadata": {},
     "output_type": "display_data"
    },
    {
     "data": {
      "text/plain": [
       "<IPython.core.display.HTML object>"
      ],
      "text/html": [
       "Syncing run <strong><a href='https://wandb.ai/kenneth-exchange-none/nyc_airbnb/runs/5upp7xai' target=\"_blank\">swept-tree-9</a></strong> to <a href='https://wandb.ai/kenneth-exchange-none/nyc_airbnb' target=\"_blank\">Weights & Biases</a> (<a href='https://wandb.me/run' target=\"_blank\">docs</a>)<br/>"
      ]
     },
     "metadata": {},
     "output_type": "display_data"
    },
    {
     "data": {
      "text/plain": [
       "<IPython.core.display.HTML object>"
      ],
      "text/html": [
       " View project at <a href='https://wandb.ai/kenneth-exchange-none/nyc_airbnb' target=\"_blank\">https://wandb.ai/kenneth-exchange-none/nyc_airbnb</a>"
      ]
     },
     "metadata": {},
     "output_type": "display_data"
    },
    {
     "data": {
      "text/plain": [
       "<IPython.core.display.HTML object>"
      ],
      "text/html": [
       " View run at <a href='https://wandb.ai/kenneth-exchange-none/nyc_airbnb/runs/5upp7xai' target=\"_blank\">https://wandb.ai/kenneth-exchange-none/nyc_airbnb/runs/5upp7xai</a>"
      ]
     },
     "metadata": {},
     "output_type": "display_data"
    }
   ],
   "execution_count": 6
  },
  {
   "cell_type": "markdown",
   "id": "472b8c0d",
   "metadata": {},
   "source": [
    "2. Explore the data in df"
   ]
  },
  {
   "cell_type": "code",
   "id": "e7902159",
   "metadata": {
    "ExecuteTime": {
     "end_time": "2024-11-20T03:23:18.795934Z",
     "start_time": "2024-11-20T03:23:18.772327Z"
    }
   },
   "source": [
    "df.info()"
   ],
   "outputs": [
    {
     "name": "stdout",
     "output_type": "stream",
     "text": [
      "<class 'pandas.core.frame.DataFrame'>\n",
      "RangeIndex: 20000 entries, 0 to 19999\n",
      "Data columns (total 16 columns):\n",
      " #   Column                          Non-Null Count  Dtype  \n",
      "---  ------                          --------------  -----  \n",
      " 0   id                              20000 non-null  int64  \n",
      " 1   name                            19993 non-null  object \n",
      " 2   host_id                         20000 non-null  int64  \n",
      " 3   host_name                       19992 non-null  object \n",
      " 4   neighbourhood_group             20000 non-null  object \n",
      " 5   neighbourhood                   20000 non-null  object \n",
      " 6   latitude                        20000 non-null  float64\n",
      " 7   longitude                       20000 non-null  float64\n",
      " 8   room_type                       20000 non-null  object \n",
      " 9   price                           20000 non-null  int64  \n",
      " 10  minimum_nights                  20000 non-null  int64  \n",
      " 11  number_of_reviews               20000 non-null  int64  \n",
      " 12  last_review                     15877 non-null  object \n",
      " 13  reviews_per_month               15877 non-null  float64\n",
      " 14  calculated_host_listings_count  20000 non-null  int64  \n",
      " 15  availability_365                20000 non-null  int64  \n",
      "dtypes: float64(3), int64(7), object(6)\n",
      "memory usage: 2.4+ MB\n"
     ]
    }
   ],
   "execution_count": 7
  },
  {
   "cell_type": "code",
   "id": "ef6f1457",
   "metadata": {
    "ExecuteTime": {
     "end_time": "2024-11-20T03:23:48.103852Z",
     "start_time": "2024-11-20T03:23:48.066283Z"
    }
   },
   "source": [
    "df.describe()"
   ],
   "outputs": [
    {
     "name": "stderr",
     "output_type": "stream",
     "text": [
      "C:\\Users\\kenne\\miniconda3\\Lib\\site-packages\\IPython\\core\\formatters.py:347: FutureWarning: Index.format is deprecated and will be removed in a future version. Convert using index.astype(str) or index.map(formatter) instead.\n",
      "  return method()\n"
     ]
    },
    {
     "data": {
      "text/plain": [
       "                 id       host_id      latitude     longitude         price  \\\n",
       "count  2.000000e+04  2.000000e+04  20000.000000  20000.000000  20000.000000   \n",
       "mean   1.892380e+07  6.746034e+07     40.728455    -73.952125    153.269050   \n",
       "std    1.101223e+07  7.857936e+07      0.054755      0.046559    243.325609   \n",
       "min    2.539000e+03  2.571000e+03     40.508730    -74.239140      0.000000   \n",
       "25%    9.393540e+06  7.853718e+06     40.689420    -73.983030     69.000000   \n",
       "50%    1.952117e+07  3.111431e+07     40.722730    -73.955640    105.000000   \n",
       "75%    2.912936e+07  1.068426e+08     40.762990    -73.936380    175.000000   \n",
       "max    3.648561e+07  2.742733e+08     40.913060    -73.717950  10000.000000   \n",
       "\n",
       "       minimum_nights  number_of_reviews  reviews_per_month  \\\n",
       "count    20000.000000       20000.000000       15877.000000   \n",
       "mean         6.992100          23.274100           1.377446   \n",
       "std         21.645449          44.927793           1.683006   \n",
       "min          1.000000           0.000000           0.010000   \n",
       "25%          1.000000           1.000000           0.190000   \n",
       "50%          2.000000           5.000000           0.720000   \n",
       "75%          5.000000          23.000000           2.010000   \n",
       "max       1250.000000         607.000000          27.950000   \n",
       "\n",
       "       calculated_host_listings_count  availability_365  \n",
       "count                    20000.000000      20000.000000  \n",
       "mean                         6.955450        112.901200  \n",
       "std                         32.433831        131.762226  \n",
       "min                          1.000000          0.000000  \n",
       "25%                          1.000000          0.000000  \n",
       "50%                          1.000000         44.000000  \n",
       "75%                          2.000000        229.000000  \n",
       "max                        327.000000        365.000000  "
      ],
      "text/html": [
       "<div>\n",
       "<style scoped>\n",
       "    .dataframe tbody tr th:only-of-type {\n",
       "        vertical-align: middle;\n",
       "    }\n",
       "\n",
       "    .dataframe tbody tr th {\n",
       "        vertical-align: top;\n",
       "    }\n",
       "\n",
       "    .dataframe thead th {\n",
       "        text-align: right;\n",
       "    }\n",
       "</style>\n",
       "<table border=\"1\" class=\"dataframe\">\n",
       "  <thead>\n",
       "    <tr style=\"text-align: right;\">\n",
       "      <th></th>\n",
       "      <th>id</th>\n",
       "      <th>host_id</th>\n",
       "      <th>latitude</th>\n",
       "      <th>longitude</th>\n",
       "      <th>price</th>\n",
       "      <th>minimum_nights</th>\n",
       "      <th>number_of_reviews</th>\n",
       "      <th>reviews_per_month</th>\n",
       "      <th>calculated_host_listings_count</th>\n",
       "      <th>availability_365</th>\n",
       "    </tr>\n",
       "  </thead>\n",
       "  <tbody>\n",
       "    <tr>\n",
       "      <th>count</th>\n",
       "      <td>2.000000e+04</td>\n",
       "      <td>2.000000e+04</td>\n",
       "      <td>20000.000000</td>\n",
       "      <td>20000.000000</td>\n",
       "      <td>20000.000000</td>\n",
       "      <td>20000.000000</td>\n",
       "      <td>20000.000000</td>\n",
       "      <td>15877.000000</td>\n",
       "      <td>20000.000000</td>\n",
       "      <td>20000.000000</td>\n",
       "    </tr>\n",
       "    <tr>\n",
       "      <th>mean</th>\n",
       "      <td>1.892380e+07</td>\n",
       "      <td>6.746034e+07</td>\n",
       "      <td>40.728455</td>\n",
       "      <td>-73.952125</td>\n",
       "      <td>153.269050</td>\n",
       "      <td>6.992100</td>\n",
       "      <td>23.274100</td>\n",
       "      <td>1.377446</td>\n",
       "      <td>6.955450</td>\n",
       "      <td>112.901200</td>\n",
       "    </tr>\n",
       "    <tr>\n",
       "      <th>std</th>\n",
       "      <td>1.101223e+07</td>\n",
       "      <td>7.857936e+07</td>\n",
       "      <td>0.054755</td>\n",
       "      <td>0.046559</td>\n",
       "      <td>243.325609</td>\n",
       "      <td>21.645449</td>\n",
       "      <td>44.927793</td>\n",
       "      <td>1.683006</td>\n",
       "      <td>32.433831</td>\n",
       "      <td>131.762226</td>\n",
       "    </tr>\n",
       "    <tr>\n",
       "      <th>min</th>\n",
       "      <td>2.539000e+03</td>\n",
       "      <td>2.571000e+03</td>\n",
       "      <td>40.508730</td>\n",
       "      <td>-74.239140</td>\n",
       "      <td>0.000000</td>\n",
       "      <td>1.000000</td>\n",
       "      <td>0.000000</td>\n",
       "      <td>0.010000</td>\n",
       "      <td>1.000000</td>\n",
       "      <td>0.000000</td>\n",
       "    </tr>\n",
       "    <tr>\n",
       "      <th>25%</th>\n",
       "      <td>9.393540e+06</td>\n",
       "      <td>7.853718e+06</td>\n",
       "      <td>40.689420</td>\n",
       "      <td>-73.983030</td>\n",
       "      <td>69.000000</td>\n",
       "      <td>1.000000</td>\n",
       "      <td>1.000000</td>\n",
       "      <td>0.190000</td>\n",
       "      <td>1.000000</td>\n",
       "      <td>0.000000</td>\n",
       "    </tr>\n",
       "    <tr>\n",
       "      <th>50%</th>\n",
       "      <td>1.952117e+07</td>\n",
       "      <td>3.111431e+07</td>\n",
       "      <td>40.722730</td>\n",
       "      <td>-73.955640</td>\n",
       "      <td>105.000000</td>\n",
       "      <td>2.000000</td>\n",
       "      <td>5.000000</td>\n",
       "      <td>0.720000</td>\n",
       "      <td>1.000000</td>\n",
       "      <td>44.000000</td>\n",
       "    </tr>\n",
       "    <tr>\n",
       "      <th>75%</th>\n",
       "      <td>2.912936e+07</td>\n",
       "      <td>1.068426e+08</td>\n",
       "      <td>40.762990</td>\n",
       "      <td>-73.936380</td>\n",
       "      <td>175.000000</td>\n",
       "      <td>5.000000</td>\n",
       "      <td>23.000000</td>\n",
       "      <td>2.010000</td>\n",
       "      <td>2.000000</td>\n",
       "      <td>229.000000</td>\n",
       "    </tr>\n",
       "    <tr>\n",
       "      <th>max</th>\n",
       "      <td>3.648561e+07</td>\n",
       "      <td>2.742733e+08</td>\n",
       "      <td>40.913060</td>\n",
       "      <td>-73.717950</td>\n",
       "      <td>10000.000000</td>\n",
       "      <td>1250.000000</td>\n",
       "      <td>607.000000</td>\n",
       "      <td>27.950000</td>\n",
       "      <td>327.000000</td>\n",
       "      <td>365.000000</td>\n",
       "    </tr>\n",
       "  </tbody>\n",
       "</table>\n",
       "</div>"
      ]
     },
     "execution_count": 8,
     "metadata": {},
     "output_type": "execute_result"
    }
   ],
   "execution_count": 8
  },
  {
   "cell_type": "code",
   "id": "13548f59",
   "metadata": {
    "ExecuteTime": {
     "end_time": "2024-11-20T03:23:52.309764Z",
     "start_time": "2024-11-20T03:23:52.296220Z"
    }
   },
   "source": [
    "df.head()"
   ],
   "outputs": [
    {
     "name": "stderr",
     "output_type": "stream",
     "text": [
      "C:\\Users\\kenne\\miniconda3\\Lib\\site-packages\\IPython\\core\\formatters.py:347: FutureWarning: Index.format is deprecated and will be removed in a future version. Convert using index.astype(str) or index.map(formatter) instead.\n",
      "  return method()\n",
      "C:\\Users\\kenne\\miniconda3\\Lib\\site-packages\\IPython\\core\\formatters.py:347: FutureWarning: RangeIndex.format is deprecated and will be removed in a future version. Convert using index.astype(str) or index.map(formatter) instead.\n",
      "  return method()\n"
     ]
    },
    {
     "data": {
      "text/plain": [
       "         id                                               name    host_id  \\\n",
       "0   9138664                Private Lg Room 15 min to Manhattan   47594947   \n",
       "1  31444015  TIME SQUARE CHARMING ONE BED IN HELL'S KITCHEN...    8523790   \n",
       "2   8741020  Voted #1 Location Quintessential 1BR W Village...   45854238   \n",
       "3  34602077  Spacious 1 bedroom apartment 15min from Manhattan  261055465   \n",
       "4  23203149   Big beautiful bedroom in huge Bushwick apartment     143460   \n",
       "\n",
       "  host_name neighbourhood_group   neighbourhood  latitude  longitude  \\\n",
       "0      Iris              Queens       Sunnyside  40.74271  -73.92493   \n",
       "1    Johlex           Manhattan  Hell's Kitchen  40.76682  -73.98878   \n",
       "2      John           Manhattan    West Village  40.73631  -74.00611   \n",
       "3     Regan              Queens         Astoria  40.76424  -73.92351   \n",
       "4     Megan            Brooklyn        Bushwick  40.69839  -73.92044   \n",
       "\n",
       "         room_type  price  minimum_nights  number_of_reviews last_review  \\\n",
       "0     Private room     74               2                  6  2019-05-26   \n",
       "1  Entire home/apt    170               3                  0         NaN   \n",
       "2  Entire home/apt    245               3                 51  2018-09-19   \n",
       "3  Entire home/apt    125               3                  1  2019-05-24   \n",
       "4     Private room     65               2                  8  2019-06-23   \n",
       "\n",
       "   reviews_per_month  calculated_host_listings_count  availability_365  \n",
       "0               0.13                               1                 5  \n",
       "1                NaN                               1               188  \n",
       "2               1.12                               1                 0  \n",
       "3               0.65                               1                13  \n",
       "4               0.52                               2                 8  "
      ],
      "text/html": [
       "<div>\n",
       "<style scoped>\n",
       "    .dataframe tbody tr th:only-of-type {\n",
       "        vertical-align: middle;\n",
       "    }\n",
       "\n",
       "    .dataframe tbody tr th {\n",
       "        vertical-align: top;\n",
       "    }\n",
       "\n",
       "    .dataframe thead th {\n",
       "        text-align: right;\n",
       "    }\n",
       "</style>\n",
       "<table border=\"1\" class=\"dataframe\">\n",
       "  <thead>\n",
       "    <tr style=\"text-align: right;\">\n",
       "      <th></th>\n",
       "      <th>id</th>\n",
       "      <th>name</th>\n",
       "      <th>host_id</th>\n",
       "      <th>host_name</th>\n",
       "      <th>neighbourhood_group</th>\n",
       "      <th>neighbourhood</th>\n",
       "      <th>latitude</th>\n",
       "      <th>longitude</th>\n",
       "      <th>room_type</th>\n",
       "      <th>price</th>\n",
       "      <th>minimum_nights</th>\n",
       "      <th>number_of_reviews</th>\n",
       "      <th>last_review</th>\n",
       "      <th>reviews_per_month</th>\n",
       "      <th>calculated_host_listings_count</th>\n",
       "      <th>availability_365</th>\n",
       "    </tr>\n",
       "  </thead>\n",
       "  <tbody>\n",
       "    <tr>\n",
       "      <th>0</th>\n",
       "      <td>9138664</td>\n",
       "      <td>Private Lg Room 15 min to Manhattan</td>\n",
       "      <td>47594947</td>\n",
       "      <td>Iris</td>\n",
       "      <td>Queens</td>\n",
       "      <td>Sunnyside</td>\n",
       "      <td>40.74271</td>\n",
       "      <td>-73.92493</td>\n",
       "      <td>Private room</td>\n",
       "      <td>74</td>\n",
       "      <td>2</td>\n",
       "      <td>6</td>\n",
       "      <td>2019-05-26</td>\n",
       "      <td>0.13</td>\n",
       "      <td>1</td>\n",
       "      <td>5</td>\n",
       "    </tr>\n",
       "    <tr>\n",
       "      <th>1</th>\n",
       "      <td>31444015</td>\n",
       "      <td>TIME SQUARE CHARMING ONE BED IN HELL'S KITCHEN...</td>\n",
       "      <td>8523790</td>\n",
       "      <td>Johlex</td>\n",
       "      <td>Manhattan</td>\n",
       "      <td>Hell's Kitchen</td>\n",
       "      <td>40.76682</td>\n",
       "      <td>-73.98878</td>\n",
       "      <td>Entire home/apt</td>\n",
       "      <td>170</td>\n",
       "      <td>3</td>\n",
       "      <td>0</td>\n",
       "      <td>NaN</td>\n",
       "      <td>NaN</td>\n",
       "      <td>1</td>\n",
       "      <td>188</td>\n",
       "    </tr>\n",
       "    <tr>\n",
       "      <th>2</th>\n",
       "      <td>8741020</td>\n",
       "      <td>Voted #1 Location Quintessential 1BR W Village...</td>\n",
       "      <td>45854238</td>\n",
       "      <td>John</td>\n",
       "      <td>Manhattan</td>\n",
       "      <td>West Village</td>\n",
       "      <td>40.73631</td>\n",
       "      <td>-74.00611</td>\n",
       "      <td>Entire home/apt</td>\n",
       "      <td>245</td>\n",
       "      <td>3</td>\n",
       "      <td>51</td>\n",
       "      <td>2018-09-19</td>\n",
       "      <td>1.12</td>\n",
       "      <td>1</td>\n",
       "      <td>0</td>\n",
       "    </tr>\n",
       "    <tr>\n",
       "      <th>3</th>\n",
       "      <td>34602077</td>\n",
       "      <td>Spacious 1 bedroom apartment 15min from Manhattan</td>\n",
       "      <td>261055465</td>\n",
       "      <td>Regan</td>\n",
       "      <td>Queens</td>\n",
       "      <td>Astoria</td>\n",
       "      <td>40.76424</td>\n",
       "      <td>-73.92351</td>\n",
       "      <td>Entire home/apt</td>\n",
       "      <td>125</td>\n",
       "      <td>3</td>\n",
       "      <td>1</td>\n",
       "      <td>2019-05-24</td>\n",
       "      <td>0.65</td>\n",
       "      <td>1</td>\n",
       "      <td>13</td>\n",
       "    </tr>\n",
       "    <tr>\n",
       "      <th>4</th>\n",
       "      <td>23203149</td>\n",
       "      <td>Big beautiful bedroom in huge Bushwick apartment</td>\n",
       "      <td>143460</td>\n",
       "      <td>Megan</td>\n",
       "      <td>Brooklyn</td>\n",
       "      <td>Bushwick</td>\n",
       "      <td>40.69839</td>\n",
       "      <td>-73.92044</td>\n",
       "      <td>Private room</td>\n",
       "      <td>65</td>\n",
       "      <td>2</td>\n",
       "      <td>8</td>\n",
       "      <td>2019-06-23</td>\n",
       "      <td>0.52</td>\n",
       "      <td>2</td>\n",
       "      <td>8</td>\n",
       "    </tr>\n",
       "  </tbody>\n",
       "</table>\n",
       "</div>"
      ]
     },
     "execution_count": 9,
     "metadata": {},
     "output_type": "execute_result"
    }
   ],
   "execution_count": 9
  },
  {
   "cell_type": "markdown",
   "id": "ecfee692",
   "metadata": {},
   "source": [
    "3. What do you notice in the data? Look around and see what you can find.\n",
    "\n",
    "> For example, there are missing values in a few columns and the column `last_review` is a date but it is in string format. Look also at the `price` column, and note the outliers. There are some zeros and some very high prices. After talking to your stakeholders, you decide to consider from a minimum of `$10` to a maximum of `$350` per night."
   ]
  },
  {
   "cell_type": "markdown",
   "id": "b4bb415f",
   "metadata": {},
   "source": [
    "4. Fix some of the little problems we have found in the data with the following code:"
   ]
  },
  {
   "cell_type": "code",
   "id": "4d685317",
   "metadata": {
    "ExecuteTime": {
     "end_time": "2024-11-20T03:23:58.519097Z",
     "start_time": "2024-11-20T03:23:58.494068Z"
    }
   },
   "source": [
    "# Drop outliers\n",
    "min_price = 10\n",
    "max_price = 350\n",
    "idx = df['price'].between(min_price, max_price)\n",
    "df = df[idx].copy()\n",
    "# Convert last_review to datetime\n",
    "df['last_review'] = pd.to_datetime(df['last_review'])"
   ],
   "outputs": [],
   "execution_count": 10
  },
  {
   "cell_type": "markdown",
   "id": "17990df4",
   "metadata": {},
   "source": [
    "Note how we did not impute missing values. We will do that in the inference pipeline, so we will be able to handle missing values also in production."
   ]
  },
  {
   "cell_type": "markdown",
   "id": "09287f29",
   "metadata": {},
   "source": [
    "5. Check with df.info() that all obvious problems have been solved"
   ]
  },
  {
   "cell_type": "code",
   "id": "b83b4970",
   "metadata": {
    "ExecuteTime": {
     "end_time": "2024-11-20T03:24:01.079617Z",
     "start_time": "2024-11-20T03:24:01.068094Z"
    }
   },
   "source": [
    "df.info()"
   ],
   "outputs": [
    {
     "name": "stdout",
     "output_type": "stream",
     "text": [
      "<class 'pandas.core.frame.DataFrame'>\n",
      "Index: 19001 entries, 0 to 19999\n",
      "Data columns (total 16 columns):\n",
      " #   Column                          Non-Null Count  Dtype         \n",
      "---  ------                          --------------  -----         \n",
      " 0   id                              19001 non-null  int64         \n",
      " 1   name                            18994 non-null  object        \n",
      " 2   host_id                         19001 non-null  int64         \n",
      " 3   host_name                       18993 non-null  object        \n",
      " 4   neighbourhood_group             19001 non-null  object        \n",
      " 5   neighbourhood                   19001 non-null  object        \n",
      " 6   latitude                        19001 non-null  float64       \n",
      " 7   longitude                       19001 non-null  float64       \n",
      " 8   room_type                       19001 non-null  object        \n",
      " 9   price                           19001 non-null  int64         \n",
      " 10  minimum_nights                  19001 non-null  int64         \n",
      " 11  number_of_reviews               19001 non-null  int64         \n",
      " 12  last_review                     15243 non-null  datetime64[ns]\n",
      " 13  reviews_per_month               15243 non-null  float64       \n",
      " 14  calculated_host_listings_count  19001 non-null  int64         \n",
      " 15  availability_365                19001 non-null  int64         \n",
      "dtypes: datetime64[ns](1), float64(3), int64(7), object(5)\n",
      "memory usage: 2.5+ MB\n"
     ]
    }
   ],
   "execution_count": 11
  },
  {
   "cell_type": "markdown",
   "id": "d727e697",
   "metadata": {},
   "source": [
    "6. Terminate the run by running `run.finish()`"
   ]
  },
  {
   "cell_type": "code",
   "id": "48b38586",
   "metadata": {
    "ExecuteTime": {
     "end_time": "2024-11-20T03:24:04.124272Z",
     "start_time": "2024-11-20T03:24:02.449201Z"
    }
   },
   "source": [
    "run.finish()"
   ],
   "outputs": [
    {
     "data": {
      "text/plain": [
       "<IPython.core.display.HTML object>"
      ],
      "text/html": [
       " View run <strong style=\"color:#cdcd00\">swept-tree-9</strong> at: <a href='https://wandb.ai/kenneth-exchange-none/nyc_airbnb/runs/5upp7xai' target=\"_blank\">https://wandb.ai/kenneth-exchange-none/nyc_airbnb/runs/5upp7xai</a><br/> View project at: <a href='https://wandb.ai/kenneth-exchange-none/nyc_airbnb' target=\"_blank\">https://wandb.ai/kenneth-exchange-none/nyc_airbnb</a><br/>Synced 5 W&B file(s), 0 media file(s), 0 artifact file(s) and 0 other file(s)"
      ]
     },
     "metadata": {},
     "output_type": "display_data"
    },
    {
     "data": {
      "text/plain": [
       "<IPython.core.display.HTML object>"
      ],
      "text/html": [
       "Find logs at: <code>.\\wandb\\run-20241119_212130-5upp7xai\\logs</code>"
      ]
     },
     "metadata": {},
     "output_type": "display_data"
    }
   ],
   "execution_count": 12
  },
  {
   "cell_type": "markdown",
   "id": "13f82b21",
   "metadata": {},
   "source": [
    "7. Save the notebook."
   ]
  }
 ],
 "metadata": {
  "kernelspec": {
   "display_name": "Python 3 (ipykernel)",
   "language": "python",
   "name": "python3"
  },
  "language_info": {
   "codemirror_mode": {
    "name": "ipython",
    "version": 3
   },
   "file_extension": ".py",
   "mimetype": "text/x-python",
   "name": "python",
   "nbconvert_exporter": "python",
   "pygments_lexer": "ipython3",
   "version": "3.10.15"
  }
 },
 "nbformat": 4,
 "nbformat_minor": 5
}
